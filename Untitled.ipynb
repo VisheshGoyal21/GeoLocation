{
 "cells": [
  {
   "cell_type": "code",
   "execution_count": 1,
   "id": "ca515fc2",
   "metadata": {},
   "outputs": [],
   "source": [
    "# pip install dash"
   ]
  },
  {
   "cell_type": "code",
   "execution_count": 2,
   "id": "9f79dc8b",
   "metadata": {},
   "outputs": [],
   "source": [
    "# pip install jupyter_dash"
   ]
  },
  {
   "cell_type": "code",
   "execution_count": 3,
   "id": "ae8d8049",
   "metadata": {},
   "outputs": [],
   "source": [
    "import os\n",
    "import json\n",
    "import requests\n",
    "\n",
    "from dash import html\n",
    "from dash import dcc\n",
    "\n",
    "from dash.dependencies import (Input, Output)\n",
    "from jupyter_dash import JupyterDash\n",
    "\n",
    "import plotly.graph_objects as go"
   ]
  },
  {
   "cell_type": "code",
   "execution_count": 4,
   "id": "af5fb4cb",
   "metadata": {},
   "outputs": [],
   "source": [
    "with open(file='ors_token.txt', mode='r') as ors:\n",
    "    ors_api_key=ors.read()"
   ]
  },
  {
   "cell_type": "code",
   "execution_count": 5,
   "id": "40b40dde",
   "metadata": {},
   "outputs": [],
   "source": [
    "with open(file='mapbox_token.txt', mode='r') as mbox:\n",
    "    map_api_key=mbox.read()"
   ]
  },
  {
   "cell_type": "code",
   "execution_count": 6,
   "id": "484657bd",
   "metadata": {},
   "outputs": [],
   "source": [
    "with open(file='foursquare_venue_categories.json', mode='r') as fcfile:\n",
    "    foursquare_venues=json.load(fp=fcfile)"
   ]
  },
  {
   "cell_type": "code",
   "execution_count": 7,
   "id": "beca465a",
   "metadata": {},
   "outputs": [
    {
     "data": {
      "text/plain": [
       "10"
      ]
     },
     "execution_count": 7,
     "metadata": {},
     "output_type": "execute_result"
    }
   ],
   "source": [
    "len(foursquare_venues['foursquare_venues'])"
   ]
  },
  {
   "cell_type": "code",
   "execution_count": 8,
   "id": "ae0ec9b3",
   "metadata": {},
   "outputs": [],
   "source": [
    "with open(file='foursquare_credentials.json', mode='r') as creds:\n",
    "    fcreds = json.load(fp=creds)"
   ]
  },
  {
   "cell_type": "code",
   "execution_count": 9,
   "id": "d9c3b3be",
   "metadata": {},
   "outputs": [
    {
     "data": {
      "text/plain": [
       "['CLIENT_ID',\n",
       " 'CLIENT_SECRET',\n",
       " 'URL',\n",
       " 'LAT',\n",
       " 'LON',\n",
       " 'CATEGORY_ID',\n",
       " 'LIMIT',\n",
       " 'VERSION']"
      ]
     },
     "execution_count": 9,
     "metadata": {},
     "output_type": "execute_result"
    }
   ],
   "source": [
    "list(fcreds.keys())\n",
    "# fcreds['LAT']"
   ]
  },
  {
   "cell_type": "code",
   "execution_count": 10,
   "id": "f017644d",
   "metadata": {},
   "outputs": [],
   "source": [
    "# Extract main categories (keys and values)\n",
    "main_category_keys = [list(i['main_category'].keys())[0] for i in foursquare_venues['foursquare_venues']]\n",
    "main_category_values = [list(i['main_category'].values())[0] for i in foursquare_venues['foursquare_venues']]\n",
    "main_category_keys_values = dict(zip(main_category_keys, main_category_values))\n",
    "\n",
    "# Extract sub-categories\n",
    "def extract_subcategories(main_category, main_category_keys, data):\n",
    "    if not (main_category in main_category_keys):\n",
    "        return {}\n",
    "    \n",
    "    data_list = data['foursquare_venues']\n",
    "    for i in data_list:\n",
    "        if (main_category == list(i['main_category'].keys())[0]):\n",
    "            sub_categories = i['sub_categories']\n",
    "            break\n",
    "        else:\n",
    "            continue\n",
    "    \n",
    "    return sub_categories"
   ]
  },
  {
   "cell_type": "code",
   "execution_count": 11,
   "id": "28606733",
   "metadata": {},
   "outputs": [],
   "source": [
    "#Extract device location\n",
    "def get_device_loc():\n",
    "    ip_url = 'http://ip-api.com/json'\n",
    "    default_loc_req = requests.get(url=ip_url)\n",
    "    default_loc_data = default_loc_req.json() if default_loc_req.status_code == 200 else {}\n",
    "    default_loc = default_loc_data['city']\n",
    "    return default_loc"
   ]
  },
  {
   "cell_type": "code",
   "execution_count": 12,
   "id": "56a51d93",
   "metadata": {},
   "outputs": [],
   "source": [
    "#Extract coordinates for any place\n",
    "def geocode(place, api_key=ors_api_key):\n",
    "    ors_url = 'https://api.openrouteservice.org/geocode/search?api_key={}&text={}'\n",
    "    ors_url = ors_url.format(api_key, place)\n",
    "    \n",
    "    headers = {\n",
    "        'Accept' : 'application/json, application/geo+json, application/gpx+xml, img/png; charset=utf-8',\n",
    "    }\n",
    "\n",
    "    req = requests.get(url=ors_url, headers=headers)\n",
    "    # print('Geocode response status - {} : {} {}'.format(place, req.status_code, req.reason))\n",
    "\n",
    "    if (req.status_code == 200):\n",
    "        req_data = req.json()\n",
    "        features = req_data['features']\n",
    "        # format - [longitude, latitude]\n",
    "        coords = features[0]['geometry']['coordinates']\n",
    "        return coords[::-1]\n",
    "\n",
    "    return None"
   ]
  },
  {
   "cell_type": "code",
   "execution_count": 13,
   "id": "4592da01",
   "metadata": {},
   "outputs": [],
   "source": [
    "external_stylesheets = ['https://codepen.io/chriddyp/pen/bWLwgP.css']\n",
    "\n",
    "app = JupyterDash(__name__, external_stylesheets=external_stylesheets)\n",
    "server = app.server"
   ]
  },
  {
   "cell_type": "code",
   "execution_count": 14,
   "id": "4b3e540d",
   "metadata": {},
   "outputs": [],
   "source": [
    "app.layout = html.Div([\n",
    "    html.Meta(charSet='UTF-8'),\n",
    "    html.Meta(name='viewport', content='width=device-width, initial-scale=1.0'),\n",
    "\n",
    "    html.Div([\n",
    "\n",
    "        html.Div([\n",
    "            html.Div([\n",
    "                html.H6('Main Category'),\n",
    "                dcc.Dropdown(\n",
    "                    id='select-main-category', \n",
    "                    options=[{'label' : i, 'value' : i} for i in main_category_keys]\n",
    "                )\n",
    "            ], className='six columns'),\n",
    "\n",
    "            html.Div([\n",
    "                html.H6('Sub Category'),\n",
    "                dcc.Dropdown(id='select-sub-category')\n",
    "            ], className='six columns'),\n",
    "        ], className='row'),\n",
    "    \n",
    "        html.Div([\n",
    "            \n",
    "            html.Div([\n",
    "                html.P('Place Name'),\n",
    "            ], className='six columns', style={'textAlign' : 'right'}),\n",
    "\n",
    "            html.Div([\n",
    "                dcc.Input(id='place-location', type='text', value=get_device_loc(), debounce=True)\n",
    "            ], className='six columns', style={'textAlign' : 'left'})\n",
    "\n",
    "        ], className='row', style={'textAlign' : 'center', 'paddingTop' : 30, 'paddingBottom' : 30}),\n",
    "\n",
    "    ], className='container'),\n",
    "\n",
    "    html.Div(id='map-content')\n",
    "])"
   ]
  },
  {
   "cell_type": "code",
   "execution_count": 15,
   "id": "05a24741",
   "metadata": {},
   "outputs": [],
   "source": [
    "# import folium"
   ]
  },
  {
   "cell_type": "code",
   "execution_count": 16,
   "id": "24f30659",
   "metadata": {},
   "outputs": [],
   "source": [
    "@app.callback(\n",
    "    Output('select-sub-category', 'options'),\n",
    "    [Input('select-main-category', 'value')]\n",
    ")\n",
    "def get_sub_category_options(value):\n",
    "    sckv = extract_subcategories(\n",
    "        main_category=value, main_category_keys=main_category_keys, data=foursquare_venues\n",
    "    )\n",
    "    option_list = [{'label' : l, 'value' : l} for l in sckv]\n",
    "    return option_list\n",
    "\n",
    "@app.callback(\n",
    "    Output('map-content', 'children'),\n",
    "    [Input('select-main-category', 'value'), Input('select-sub-category', 'value'), Input('place-location', 'value')]\n",
    ")\n",
    "def get_url(main_category, sub_category, place_name):\n",
    "    error_statement = html.P('Please select the dropdown value...', style={'padding' : 100, 'textAlign' : 'center'})\n",
    "    try:\n",
    "        if not sub_category:\n",
    "            return error_statement\n",
    "        if not main_category:\n",
    "            return error_statement\n",
    "\n",
    "        sckv = extract_subcategories(\n",
    "            main_category=main_category, main_category_keys=main_category_keys, data=foursquare_venues\n",
    "        )\n",
    "\n",
    "        category_id = sckv[sub_category]\n",
    "\n",
    "        center_lat, center_lon = geocode(place=place_name)\n",
    "        client_id = fcreds['CLIENT_ID']\n",
    "        client_secret = fcreds['CLIENT_SECRET']\n",
    "        limit = 10\n",
    "        version = fcreds['VERSION']\n",
    "\n",
    "        foursquare_url = fcreds['URL']\n",
    "        foursquare_url = foursquare_url.format(center_lat, center_lon, category_id, client_id, client_secret, limit, version)\n",
    "\n",
    "        venue_result = requests.get(url=foursquare_url).json()\n",
    "        loc = venue_result['response']['venues']\n",
    "        names = []; categories = []; lats = []; lons=[]; hover_texts = []\n",
    "\n",
    "        for res in range(len(venue_result)):\n",
    "            name = loc[res]['name']\n",
    "            category = loc[res]['categories'][0]['pluralName']\n",
    "            location = loc[res]['location']\n",
    "            latitude = loc[res]['location']['lat']\n",
    "            longitude = loc[res]['location']['lng']\n",
    "\n",
    "            names.append(name)\n",
    "            categories.append(category)\n",
    "            lats.append(latitude)\n",
    "            lons.append(longitude)\n",
    "            hover_texts.append('{}; {}'.format(name, category))\n",
    "\n",
    "        trace = go.Scattermapbox(\n",
    "            lat=lats,\n",
    "            lon=lons,\n",
    "            mode='markers',\n",
    "            marker=dict(\n",
    "                size=10,\n",
    "                color='red'\n",
    "            ),\n",
    "            text=hover_texts,\n",
    "            hoverinfo='text'\n",
    "        )\n",
    "\n",
    "        layout = go.Layout(\n",
    "            autosize=True,\n",
    "            height=600,\n",
    "            hovermode='closest',\n",
    "            showlegend=False,\n",
    "            mapbox=dict(\n",
    "                accesstoken=map_api_key,\n",
    "                bearing=0,\n",
    "                center=dict(\n",
    "                    lat=center_lat,\n",
    "                    lon=center_lon\n",
    "                ),\n",
    "                pitch=0,\n",
    "                zoom=8,\n",
    "                style='outdoors'\n",
    "            ),\n",
    "            margin=dict(l=40, r=40, t=40, b=40)\n",
    "        )\n",
    "\n",
    "        fig = go.Figure(data=[trace], layout=layout)\n",
    "\n",
    "        return html.Div([\n",
    "            dcc.Graph(\n",
    "                id='map-plot',\n",
    "                figure=fig\n",
    "            )\n",
    "        ])\n",
    "\n",
    "    except Exception as e:\n",
    "        return error_statement"
   ]
  },
  {
   "cell_type": "code",
   "execution_count": 17,
   "id": "76f7f9fd",
   "metadata": {},
   "outputs": [
    {
     "name": "stdout",
     "output_type": "stream",
     "text": [
      "Dash app running on http://127.0.0.1:8050/\n"
     ]
    }
   ],
   "source": [
    "app.run_server(mode='external')"
   ]
  },
  {
   "cell_type": "code",
   "execution_count": null,
   "id": "2def7216",
   "metadata": {},
   "outputs": [],
   "source": []
  }
 ],
 "metadata": {
  "kernelspec": {
   "display_name": "Python 3 (ipykernel)",
   "language": "python",
   "name": "python3"
  },
  "language_info": {
   "codemirror_mode": {
    "name": "ipython",
    "version": 3
   },
   "file_extension": ".py",
   "mimetype": "text/x-python",
   "name": "python",
   "nbconvert_exporter": "python",
   "pygments_lexer": "ipython3",
   "version": "3.9.7"
  }
 },
 "nbformat": 4,
 "nbformat_minor": 5
}
